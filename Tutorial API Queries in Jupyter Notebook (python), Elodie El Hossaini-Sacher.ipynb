{
 "cells": [
  {
   "cell_type": "code",
   "execution_count": 1,
   "id": "454f6a73",
   "metadata": {},
   "outputs": [
    {
     "name": "stdout",
     "output_type": "stream",
     "text": [
      "Hello World!\n"
     ]
    }
   ],
   "source": [
    "print('Hello World!')"
   ]
  },
  {
   "cell_type": "markdown",
   "id": "ae7d3211",
   "metadata": {},
   "source": [
    "# Tutorial Jupyter Notebook\n",
    "## Introduction\n",
    "### Main part\n",
    "### Conclusion"
   ]
  },
  {
   "cell_type": "markdown",
   "id": "2ae8b541",
   "metadata": {},
   "source": [
    "**Victoria and Albert Museum** \n",
    "*Victoria and Albert Museum*"
   ]
  },
  {
   "cell_type": "markdown",
   "id": "bb3c019b",
   "metadata": {},
   "source": [
    "* API Query\n",
    "* Juypyter Notebook\n",
    "* Python"
   ]
  },
  {
   "cell_type": "code",
   "execution_count": 3,
   "id": "1486d4ee",
   "metadata": {},
   "outputs": [
    {
     "name": "stdout",
     "output_type": "stream",
     "text": [
      "{\"version\": \"2.0\", \"record_count\": 2293, \"record_count_exact\": true, \"parameters\": {}, \"page_size\": 100, \"pages\": 23, \"page\": 1, \"image_count\": 2215}\n"
     ]
    }
   ],
   "source": [
    "#From API queries to the research question (vice versa)\n",
    "import requests\n",
    "import json\n",
    "req = requests.get('https://api.vam.ac.uk/v2/objects/search?id_technique=AAT54225&id_place=x29512&made_after_year=1840&made_before_year=1950&page_size=100&order_by=artist')\n",
    "obj_data = req.json()\n",
    "obj_info = obj_data[\"info\"]\n",
    "obj_records = obj_data[\"records\"]\n",
    "print(json.dumps(obj_info))"
   ]
  },
  {
   "cell_type": "code",
   "execution_count": 4,
   "id": "cef12e63",
   "metadata": {},
   "outputs": [
    {
     "name": "stdout",
     "output_type": "stream",
     "text": [
      "There are 18661 objects that mention the term 'Egypt' anywhere in the record\n"
     ]
    }
   ],
   "source": [
    "#Case study V&A Museum: Search, Filter, Cluster\n",
    "#General text research q=Egypt\n",
    "import requests\n",
    "req = requests.get('https://api.vam.ac.uk/v2/objects/search?q=Egypt')\n",
    "object_data = req.json()\n",
    "object_info = object_data[\"info\"]\n",
    "object_records = object_data[\"records\"]\n",
    "record_count = object_info[\"record_count\"]\n",
    "print(f\"There are {record_count} objects that mention the term 'Egypt' anywhere in the record\")\n"
   ]
  },
  {
   "cell_type": "code",
   "execution_count": 6,
   "id": "7b73732b",
   "metadata": {},
   "outputs": [
    {
     "name": "stdout",
     "output_type": "stream",
     "text": [
      "There are 7053 objects that mention the term 'Egypt' within places fields\n"
     ]
    }
   ],
   "source": [
    "#Case study V&A Museum: Search, Filter, Cluster\n",
    "#Constrained  text research q_place_name=Egypt\n",
    "import requests\n",
    "req = requests.get('https://api.vam.ac.uk/v2/objects/search?q_place_name=Egypt')\n",
    "object_data = req.json()\n",
    "object_info = object_data[\"info\"]\n",
    "object_records = object_data[\"records\"]\n",
    "record_count = object_info[\"record_count\"]\n",
    "print(f\"There are {record_count} objects that mention the term 'Egypt' within places fields\")"
   ]
  },
  {
   "cell_type": "code",
   "execution_count": 7,
   "id": "a6441403",
   "metadata": {},
   "outputs": [
    {
     "name": "stdout",
     "output_type": "stream",
     "text": [
      "There are 6930 objects that have been catalogued as using the place 'Egypt' (id_place=x29512)\n"
     ]
    }
   ],
   "source": [
    "#Case study V&A Museum: Search, Filter, Cluster\n",
    "#Filter Id_place=x29512 (Egypt)\n",
    "import requests\n",
    "req = requests.get('https://api.vam.ac.uk/v2/objects/search?id_place=x29512')\n",
    "object_data = req.json()\n",
    "object_info = object_data[\"info\"]\n",
    "object_records = object_data[\"records\"]\n",
    "record_count = object_info[\"record_count\"]\n",
    "print(f\"There are {record_count} objects that have been catalogued as using the place 'Egypt' (id_place=x29512)\")"
   ]
  },
  {
   "cell_type": "code",
   "execution_count": 8,
   "id": "2e7804b0",
   "metadata": {},
   "outputs": [
    {
     "name": "stdout",
     "output_type": "stream",
     "text": [
      "The matching 12487 object records for the query 'Middle East' have these clusters:\n",
      "  Cluster type 'category' has the most common value 'Photographs'\n",
      "  Cluster type 'person' has the most common value 'Frith, Francis'\n",
      "  Cluster type 'organisation' has the most common value 'Day & Son, Ltd.'\n",
      "  Cluster type 'collection' has the most common value 'Prints, Drawings & Paintings Collection'\n",
      "  Cluster type 'gallery' has the most common value 'Prints & Drawings Study Room, level H'\n",
      "  Cluster type 'style' has the most common value 'Victorian'\n",
      "  Cluster type 'place' has the most common value 'Egypt'\n",
      "  Cluster type 'object_type' has the most common value 'Photograph'\n",
      "  Cluster type 'technique' has the most common value 'albumen process'\n",
      "  Cluster type 'material' has the most common value 'photographic paper'\n",
      "  Cluster type 'maker' has the most common value 'Frith, Francis'\n",
      "  Cluster type 'associated' has the most common value 'K.A.C. Creswell'\n",
      "  Cluster type 'depicts' has the most common value 'Egypt'\n",
      "  Cluster type 'accession_year' has the most common value '1994'\n"
     ]
    }
   ],
   "source": [
    "#Case study V&A Museum: Search, Filter, Cluster\n",
    "#Searching for cluster types matching q=Middle East\n",
    "import requests\n",
    "import pandas as pd\n",
    "import altair as alt\n",
    "\n",
    "req = requests.get('https://api.vam.ac.uk/v2/objects/clusters/search?q=Middle East')\n",
    "object_data = req.json()\n",
    "object_info = object_data[\"info\"]\n",
    "record_count = object_info[\"record_count\"]\n",
    "object_clusters = object_data[\"clusters\"]\n",
    "\n",
    "print(f\"The matching {record_count} object records for the query 'Middle East' have these clusters:\")\n",
    "\n",
    "for cluster_type in object_clusters:\n",
    "    print(\"  Cluster type '%s' has the most common value '%s'\" % (cluster_type, object_clusters[cluster_type][\"terms\"][0][\"value\"]))"
   ]
  },
  {
   "cell_type": "code",
   "execution_count": 9,
   "id": "94c81af7",
   "metadata": {},
   "outputs": [
    {
     "name": "stdout",
     "output_type": "stream",
     "text": [
      "The matching 18661 object records for the query 'Egypt' have these clusters:\n",
      "  Cluster type 'category' has the most common value 'Photographs'\n",
      "  Cluster type 'person' has the most common value 'Frith, Francis'\n",
      "  Cluster type 'organisation' has the most common value 'Day & Son, Ltd.'\n",
      "  Cluster type 'collection' has the most common value 'Prints, Drawings & Paintings Collection'\n",
      "  Cluster type 'gallery' has the most common value 'Prints & Drawings Study Room, level H'\n",
      "  Cluster type 'style' has the most common value 'Victorian'\n",
      "  Cluster type 'place' has the most common value 'Egypt'\n",
      "  Cluster type 'object_type' has the most common value 'Photograph'\n",
      "  Cluster type 'technique' has the most common value 'photography'\n",
      "  Cluster type 'material' has the most common value 'photographic paper'\n",
      "  Cluster type 'maker' has the most common value 'Frith, Francis'\n",
      "  Cluster type 'associated' has the most common value 'K.A.C. Creswell'\n",
      "  Cluster type 'depicts' has the most common value 'Egypt'\n",
      "  Cluster type 'accession_year' has the most common value '1994'\n"
     ]
    }
   ],
   "source": [
    "#Case study V&A Museum: Search, Filter, Cluster\n",
    "#Searching for cluster types matching q=Egypt\n",
    "import requests\n",
    "import pandas as pd\n",
    "import altair as alt\n",
    "\n",
    "req = requests.get('https://api.vam.ac.uk/v2/objects/clusters/search?q=Egypt')\n",
    "object_data = req.json()\n",
    "object_info = object_data[\"info\"]\n",
    "record_count = object_info[\"record_count\"]\n",
    "object_clusters = object_data[\"clusters\"]\n",
    "\n",
    "print(f\"The matching {record_count} object records for the query 'Egypt' have these clusters:\")\n",
    "\n",
    "for cluster_type in object_clusters:\n",
    "    print(\"  Cluster type '%s' has the most common value '%s'\" % (cluster_type, object_clusters[cluster_type][\"terms\"][0][\"value\"]))\n"
   ]
  },
  {
   "cell_type": "code",
   "execution_count": 14,
   "id": "f12a9efb",
   "metadata": {},
   "outputs": [
    {
     "data": {
      "text/html": [
       "\n",
       "<div id=\"altair-viz-dbf7df7f6198474188be84abce55dbf9\"></div>\n",
       "<script type=\"text/javascript\">\n",
       "  var VEGA_DEBUG = (typeof VEGA_DEBUG == \"undefined\") ? {} : VEGA_DEBUG;\n",
       "  (function(spec, embedOpt){\n",
       "    let outputDiv = document.currentScript.previousElementSibling;\n",
       "    if (outputDiv.id !== \"altair-viz-dbf7df7f6198474188be84abce55dbf9\") {\n",
       "      outputDiv = document.getElementById(\"altair-viz-dbf7df7f6198474188be84abce55dbf9\");\n",
       "    }\n",
       "    const paths = {\n",
       "      \"vega\": \"https://cdn.jsdelivr.net/npm//vega@5?noext\",\n",
       "      \"vega-lib\": \"https://cdn.jsdelivr.net/npm//vega-lib?noext\",\n",
       "      \"vega-lite\": \"https://cdn.jsdelivr.net/npm//vega-lite@4.17.0?noext\",\n",
       "      \"vega-embed\": \"https://cdn.jsdelivr.net/npm//vega-embed@6?noext\",\n",
       "    };\n",
       "\n",
       "    function maybeLoadScript(lib, version) {\n",
       "      var key = `${lib.replace(\"-\", \"\")}_version`;\n",
       "      return (VEGA_DEBUG[key] == version) ?\n",
       "        Promise.resolve(paths[lib]) :\n",
       "        new Promise(function(resolve, reject) {\n",
       "          var s = document.createElement('script');\n",
       "          document.getElementsByTagName(\"head\")[0].appendChild(s);\n",
       "          s.async = true;\n",
       "          s.onload = () => {\n",
       "            VEGA_DEBUG[key] = version;\n",
       "            return resolve(paths[lib]);\n",
       "          };\n",
       "          s.onerror = () => reject(`Error loading script: ${paths[lib]}`);\n",
       "          s.src = paths[lib];\n",
       "        });\n",
       "    }\n",
       "\n",
       "    function showError(err) {\n",
       "      outputDiv.innerHTML = `<div class=\"error\" style=\"color:red;\">${err}</div>`;\n",
       "      throw err;\n",
       "    }\n",
       "\n",
       "    function displayChart(vegaEmbed) {\n",
       "      vegaEmbed(outputDiv, spec, embedOpt)\n",
       "        .catch(err => showError(`Javascript Error: ${err.message}<br>This usually means there's a typo in your chart specification. See the javascript console for the full traceback.`));\n",
       "    }\n",
       "\n",
       "    if(typeof define === \"function\" && define.amd) {\n",
       "      requirejs.config({paths});\n",
       "      require([\"vega-embed\"], displayChart, err => showError(`Error loading script: ${err.message}`));\n",
       "    } else {\n",
       "      maybeLoadScript(\"vega\", \"5\")\n",
       "        .then(() => maybeLoadScript(\"vega-lite\", \"4.17.0\"))\n",
       "        .then(() => maybeLoadScript(\"vega-embed\", \"6\"))\n",
       "        .catch(showError)\n",
       "        .then(() => displayChart(vegaEmbed));\n",
       "    }\n",
       "  })({\"config\": {\"view\": {\"continuousWidth\": 400, \"continuousHeight\": 300}}, \"data\": {\"name\": \"data-4c484a3a784c6767b50860c384744e2c\"}, \"mark\": \"bar\", \"encoding\": {\"x\": {\"field\": \"value\", \"sort\": \"-y\", \"title\": \"Categories\", \"type\": \"nominal\"}, \"y\": {\"field\": \"count\", \"title\": \"Number of Objects\", \"type\": \"quantitative\"}}, \"title\": \"Content categories of the V&A Museum to classify the photos from Egypt\", \"$schema\": \"https://vega.github.io/schema/vega-lite/v4.17.0.json\", \"datasets\": {\"data-4c484a3a784c6767b50860c384744e2c\": [{\"id\": \"THES48910\", \"value\": \"Photographs\", \"count\": 2077, \"count_max_error\": 0}, {\"id\": \"THES252988\", \"value\": \"Topography\", \"count\": 1792, \"count_max_error\": 0}, {\"id\": \"THES273264\", \"value\": \"Historic Cairo\", \"count\": 1760, \"count_max_error\": 0}, {\"id\": \"THES48993\", \"value\": \"Architecture\", \"count\": 1736, \"count_max_error\": 0}, {\"id\": \"THES48874\", \"value\": \"Archaeology\", \"count\": 1716, \"count_max_error\": 0}, {\"id\": \"THES268061\", \"value\": \"Middle East\", \"count\": 1612, \"count_max_error\": 0}, {\"id\": \"THES268062\", \"value\": \"Mosques\", \"count\": 718, \"count_max_error\": 0}, {\"id\": \"THES48906\", \"value\": \"Portraits\", \"count\": 146, \"count_max_error\": 0}, {\"id\": \"THES250702\", \"value\": \"Tourism & Travel\", \"count\": 57, \"count_max_error\": 0}, {\"id\": \"THES268067\", \"value\": \"Museums\", \"count\": 28, \"count_max_error\": 0}]}}, {\"mode\": \"vega-lite\"});\n",
       "</script>"
      ],
      "text/plain": [
       "alt.Chart(...)"
      ]
     },
     "execution_count": 14,
     "metadata": {},
     "output_type": "execute_result"
    }
   ],
   "source": [
    "#Case study V&A Museum: Search, Filter, Cluster\n",
    "#Specify the query by searching for the most frequent values of a given cluster type that match identifiers and other parameters.\n",
    "#cluster_type=category\n",
    "\n",
    "import requests\n",
    "import pandas as pd\n",
    "import altair as alt\n",
    "\n",
    "req = requests.get('https://api.vam.ac.uk/v2/objects/clusters/search?cluster_type=category&id_technique=AAT54225&id_place=x29512&made_after_year=1840&made_before_year=1950')\n",
    "object_data = req.json()\n",
    "object_clusters = object_data[\"clusters\"]\n",
    "materials = object_clusters[\"category\"][\"terms\"]\n",
    "\n",
    "materials_df = pd.DataFrame(materials[0:10])\n",
    "alt.Chart(materials_df, title=\"Content categories of the V&A Museum to classify the photos from Egypt\").mark_bar().encode(\n",
    "    x=alt.X('value', sort='-y', title='Categories'),\n",
    "    y=alt.Y('count', title='Number of Objects'))"
   ]
  },
  {
   "cell_type": "code",
   "execution_count": 15,
   "id": "e9279a0f",
   "metadata": {},
   "outputs": [
    {
     "data": {
      "text/html": [
       "\n",
       "<div id=\"altair-viz-e641e5313c464b62843ebafc0951a0d8\"></div>\n",
       "<script type=\"text/javascript\">\n",
       "  var VEGA_DEBUG = (typeof VEGA_DEBUG == \"undefined\") ? {} : VEGA_DEBUG;\n",
       "  (function(spec, embedOpt){\n",
       "    let outputDiv = document.currentScript.previousElementSibling;\n",
       "    if (outputDiv.id !== \"altair-viz-e641e5313c464b62843ebafc0951a0d8\") {\n",
       "      outputDiv = document.getElementById(\"altair-viz-e641e5313c464b62843ebafc0951a0d8\");\n",
       "    }\n",
       "    const paths = {\n",
       "      \"vega\": \"https://cdn.jsdelivr.net/npm//vega@5?noext\",\n",
       "      \"vega-lib\": \"https://cdn.jsdelivr.net/npm//vega-lib?noext\",\n",
       "      \"vega-lite\": \"https://cdn.jsdelivr.net/npm//vega-lite@4.17.0?noext\",\n",
       "      \"vega-embed\": \"https://cdn.jsdelivr.net/npm//vega-embed@6?noext\",\n",
       "    };\n",
       "\n",
       "    function maybeLoadScript(lib, version) {\n",
       "      var key = `${lib.replace(\"-\", \"\")}_version`;\n",
       "      return (VEGA_DEBUG[key] == version) ?\n",
       "        Promise.resolve(paths[lib]) :\n",
       "        new Promise(function(resolve, reject) {\n",
       "          var s = document.createElement('script');\n",
       "          document.getElementsByTagName(\"head\")[0].appendChild(s);\n",
       "          s.async = true;\n",
       "          s.onload = () => {\n",
       "            VEGA_DEBUG[key] = version;\n",
       "            return resolve(paths[lib]);\n",
       "          };\n",
       "          s.onerror = () => reject(`Error loading script: ${paths[lib]}`);\n",
       "          s.src = paths[lib];\n",
       "        });\n",
       "    }\n",
       "\n",
       "    function showError(err) {\n",
       "      outputDiv.innerHTML = `<div class=\"error\" style=\"color:red;\">${err}</div>`;\n",
       "      throw err;\n",
       "    }\n",
       "\n",
       "    function displayChart(vegaEmbed) {\n",
       "      vegaEmbed(outputDiv, spec, embedOpt)\n",
       "        .catch(err => showError(`Javascript Error: ${err.message}<br>This usually means there's a typo in your chart specification. See the javascript console for the full traceback.`));\n",
       "    }\n",
       "\n",
       "    if(typeof define === \"function\" && define.amd) {\n",
       "      requirejs.config({paths});\n",
       "      require([\"vega-embed\"], displayChart, err => showError(`Error loading script: ${err.message}`));\n",
       "    } else {\n",
       "      maybeLoadScript(\"vega\", \"5\")\n",
       "        .then(() => maybeLoadScript(\"vega-lite\", \"4.17.0\"))\n",
       "        .then(() => maybeLoadScript(\"vega-embed\", \"6\"))\n",
       "        .catch(showError)\n",
       "        .then(() => displayChart(vegaEmbed));\n",
       "    }\n",
       "  })({\"config\": {\"view\": {\"continuousWidth\": 400, \"continuousHeight\": 300}}, \"data\": {\"name\": \"data-c82f11be952b96060062e2d2b2c2ee82\"}, \"mark\": \"bar\", \"encoding\": {\"x\": {\"field\": \"value\", \"sort\": \"-y\", \"title\": \"Places/Themes\", \"type\": \"nominal\"}, \"y\": {\"field\": \"count\", \"title\": \"Number of Objects\", \"type\": \"quantitative\"}}, \"title\": \"Places/themes on photos related to the place Egypt\", \"$schema\": \"https://vega.github.io/schema/vega-lite/v4.17.0.json\", \"datasets\": {\"data-c82f11be952b96060062e2d2b2c2ee82\": [{\"id\": \"x29512\", \"value\": \"Egypt\", \"count\": 2293, \"count_max_error\": 0}, {\"id\": \"x28776\", \"value\": \"Cairo\", \"count\": 1996, \"count_max_error\": 0}, {\"id\": \"x41729\", \"value\": \"Mosque of Ibn Tulun\", \"count\": 139, \"count_max_error\": 0}, {\"id\": \"x41607\", \"value\": \"Citadel\", \"count\": 61, \"count_max_error\": 0}, {\"id\": \"THES274105\", \"value\": \"Ayyubid Wall\", \"count\": 45, \"count_max_error\": 0}, {\"id\": \"x42480\", \"value\": \"Madrasa and Friday mosque of Sultan Hasan\", \"count\": 40, \"count_max_error\": 0}, {\"id\": \"x33011\", \"value\": \"Algiers\", \"count\": 37, \"count_max_error\": 0}, {\"id\": \"x41880\", \"value\": \"Al-Hakim Mosque\", \"count\": 34, \"count_max_error\": 0}, {\"id\": \"THES273882\", \"value\": \"Funerary khanqah of Sultan Faraj Ibn Barquq\", \"count\": 31, \"count_max_error\": 0}, {\"id\": \"THES274116\", \"value\": \"North Wall\", \"count\": 31, \"count_max_error\": 0}]}}, {\"mode\": \"vega-lite\"});\n",
       "</script>"
      ],
      "text/plain": [
       "alt.Chart(...)"
      ]
     },
     "execution_count": 15,
     "metadata": {},
     "output_type": "execute_result"
    }
   ],
   "source": [
    "#Case study V&A Museum: Search, Filter, Cluster\n",
    "#Which photographic subjects are most represented in the V&A photo collection from Egypt?\n",
    "#cluster_type=place\n",
    "\n",
    "import requests\n",
    "import pandas as pd\n",
    "import altair as alt\n",
    "\n",
    "req = requests.get('https://api.vam.ac.uk/v2/objects/clusters/search?cluster_type=place&id_technique=AAT54225&id_place=x29512&made_after_year=1840&made_before_year=1950')\n",
    "object_data = req.json()\n",
    "object_clusters = object_data[\"clusters\"]\n",
    "materials = object_clusters[\"place\"][\"terms\"]\n",
    "\n",
    "materials_df = pd.DataFrame(materials[0:10])\n",
    "alt.Chart(materials_df, title=\"Places on photos related to the place Egypt\").mark_bar().encode(\n",
    "    x=alt.X('value', sort='-y', title='Places/Themes'),\n",
    "    y=alt.Y('count', title='Number of Objects'))"
   ]
  },
  {
   "cell_type": "code",
   "execution_count": 17,
   "id": "20f89275",
   "metadata": {},
   "outputs": [
    {
     "data": {
      "text/html": [
       "\n",
       "<div id=\"altair-viz-68f1feecc40d4bf789d90d6853c3d339\"></div>\n",
       "<script type=\"text/javascript\">\n",
       "  var VEGA_DEBUG = (typeof VEGA_DEBUG == \"undefined\") ? {} : VEGA_DEBUG;\n",
       "  (function(spec, embedOpt){\n",
       "    let outputDiv = document.currentScript.previousElementSibling;\n",
       "    if (outputDiv.id !== \"altair-viz-68f1feecc40d4bf789d90d6853c3d339\") {\n",
       "      outputDiv = document.getElementById(\"altair-viz-68f1feecc40d4bf789d90d6853c3d339\");\n",
       "    }\n",
       "    const paths = {\n",
       "      \"vega\": \"https://cdn.jsdelivr.net/npm//vega@5?noext\",\n",
       "      \"vega-lib\": \"https://cdn.jsdelivr.net/npm//vega-lib?noext\",\n",
       "      \"vega-lite\": \"https://cdn.jsdelivr.net/npm//vega-lite@4.17.0?noext\",\n",
       "      \"vega-embed\": \"https://cdn.jsdelivr.net/npm//vega-embed@6?noext\",\n",
       "    };\n",
       "\n",
       "    function maybeLoadScript(lib, version) {\n",
       "      var key = `${lib.replace(\"-\", \"\")}_version`;\n",
       "      return (VEGA_DEBUG[key] == version) ?\n",
       "        Promise.resolve(paths[lib]) :\n",
       "        new Promise(function(resolve, reject) {\n",
       "          var s = document.createElement('script');\n",
       "          document.getElementsByTagName(\"head\")[0].appendChild(s);\n",
       "          s.async = true;\n",
       "          s.onload = () => {\n",
       "            VEGA_DEBUG[key] = version;\n",
       "            return resolve(paths[lib]);\n",
       "          };\n",
       "          s.onerror = () => reject(`Error loading script: ${paths[lib]}`);\n",
       "          s.src = paths[lib];\n",
       "        });\n",
       "    }\n",
       "\n",
       "    function showError(err) {\n",
       "      outputDiv.innerHTML = `<div class=\"error\" style=\"color:red;\">${err}</div>`;\n",
       "      throw err;\n",
       "    }\n",
       "\n",
       "    function displayChart(vegaEmbed) {\n",
       "      vegaEmbed(outputDiv, spec, embedOpt)\n",
       "        .catch(err => showError(`Javascript Error: ${err.message}<br>This usually means there's a typo in your chart specification. See the javascript console for the full traceback.`));\n",
       "    }\n",
       "\n",
       "    if(typeof define === \"function\" && define.amd) {\n",
       "      requirejs.config({paths});\n",
       "      require([\"vega-embed\"], displayChart, err => showError(`Error loading script: ${err.message}`));\n",
       "    } else {\n",
       "      maybeLoadScript(\"vega\", \"5\")\n",
       "        .then(() => maybeLoadScript(\"vega-lite\", \"4.17.0\"))\n",
       "        .then(() => maybeLoadScript(\"vega-embed\", \"6\"))\n",
       "        .catch(showError)\n",
       "        .then(() => displayChart(vegaEmbed));\n",
       "    }\n",
       "  })({\"config\": {\"view\": {\"continuousWidth\": 400, \"continuousHeight\": 300}}, \"data\": {\"name\": \"data-ea0f203a5d72ecc09f478347b94ae87c\"}, \"mark\": \"bar\", \"encoding\": {\"x\": {\"field\": \"value\", \"sort\": \"-y\", \"title\": \"Maker\", \"type\": \"nominal\"}, \"y\": {\"field\": \"count\", \"title\": \"Number of Objects\", \"type\": \"quantitative\"}}, \"title\": \"Makers of photographs related to the place Egypt\", \"$schema\": \"https://vega.github.io/schema/vega-lite/v4.17.0.json\", \"datasets\": {\"data-ea0f203a5d72ecc09f478347b94ae87c\": [{\"id\": \"AUTH334543\", \"value\": \"K.A.C. Creswell\", \"count\": 941, \"count_max_error\": 0}, {\"id\": \"AUTH334543\", \"value\": \"Creswell, Keppel Archibald Cameron (Professor Sir)\", \"count\": 647, \"count_max_error\": 0}, {\"id\": \"A1848\", \"value\": \"Unknown\", \"count\": 307, \"count_max_error\": 0}, {\"id\": \"AUTH332695\", \"value\": \"Lekegian, Gabriel\", \"count\": 76, \"count_max_error\": 0}, {\"id\": \"A6403\", \"value\": \"Frith, Francis\", \"count\": 52, \"count_max_error\": 0}, {\"id\": \"A16341\", \"value\": \"Sebah, Pascal\", \"count\": 33, \"count_max_error\": 0}, {\"id\": \"AUTH333899\", \"value\": \"Sebah, Jean Pascal\", \"count\": 23, \"count_max_error\": 0}, {\"id\": \"AUTH382369\", \"value\": \"Lehnert & Landrock\", \"count\": 21, \"count_max_error\": 0}, {\"id\": \"AUTH382370\", \"value\": \"Lehnert, Rudolf\", \"count\": 21, \"count_max_error\": 0}, {\"id\": \"AUTH334488\", \"value\": \"Facchinelli, Benjamin\", \"count\": 19, \"count_max_error\": 0}]}}, {\"mode\": \"vega-lite\"});\n",
       "</script>"
      ],
      "text/plain": [
       "alt.Chart(...)"
      ]
     },
     "execution_count": 17,
     "metadata": {},
     "output_type": "execute_result"
    }
   ],
   "source": [
    "#Case study V&A Museum: Search, Filter, Cluster\n",
    "#Did the V&A Museum collect photos of the most popular photographers working in WANA?\n",
    "#cluster_type=maker\n",
    "\n",
    "import requests\n",
    "import pandas as pd\n",
    "import altair as alt\n",
    "\n",
    "req = requests.get('https://api.vam.ac.uk/v2/objects/clusters/search?cluster_type=maker&id_technique=AAT54225&id_place=x29512&made_after_year=1840&made_before_year=1950')\n",
    "object_data = req.json()\n",
    "object_clusters = object_data[\"clusters\"]\n",
    "materials = object_clusters[\"maker\"][\"terms\"]\n",
    "\n",
    "materials_df = pd.DataFrame(materials[0:10])\n",
    "alt.Chart(materials_df, title=\"Makers of photographs related to the place Egypt\").mark_bar().encode(\n",
    "    x=alt.X('value', sort='-y', title='Maker'),\n",
    "    y=alt.Y('count', title='Number of Objects'))\n"
   ]
  },
  {
   "cell_type": "code",
   "execution_count": 19,
   "id": "39b44db7",
   "metadata": {},
   "outputs": [
    {
     "name": "stdout",
     "output_type": "stream",
     "text": [
      "{\"version\": \"2.0\", \"record_count\": 2293, \"record_count_exact\": true, \"parameters\": {}, \"page_size\": 100, \"pages\": 23, \"page\": 1, \"image_count\": 2215}\n"
     ]
    }
   ],
   "source": [
    "#Case study V&A Museum: Search, Filter, Cluster\n",
    "#Research questions in the form of an Query-String\n",
    "#Response format JSON\n",
    "\n",
    "import requests\n",
    "import json\n",
    "req = requests.get('https://api.vam.ac.uk/v2/objects/search?id_technique=AAT54225&id_place=x29512&made_after_year=1840&made_before_year=1950&page_size=100&order_by=artist')\n",
    "obj_data = req.json()\n",
    "obj_info = obj_data[\"info\"]\n",
    "obj_records = obj_data[\"records\"]\n",
    "print(json.dumps(obj_info))"
   ]
  },
  {
   "cell_type": "code",
   "execution_count": 20,
   "id": "f374499d",
   "metadata": {},
   "outputs": [
    {
     "data": {
      "text/html": [
       "<div>\n",
       "<style scoped>\n",
       "    .dataframe tbody tr th:only-of-type {\n",
       "        vertical-align: middle;\n",
       "    }\n",
       "\n",
       "    .dataframe tbody tr th {\n",
       "        vertical-align: top;\n",
       "    }\n",
       "\n",
       "    .dataframe thead th {\n",
       "        text-align: right;\n",
       "    }\n",
       "</style>\n",
       "<table border=\"1\" class=\"dataframe\">\n",
       "  <thead>\n",
       "    <tr style=\"text-align: right;\">\n",
       "      <th></th>\n",
       "      <th>accessionNumber</th>\n",
       "      <th>accessionYear</th>\n",
       "      <th>systemNumber</th>\n",
       "      <th>objectType</th>\n",
       "      <th>_primaryTitle</th>\n",
       "      <th>_primaryPlace</th>\n",
       "      <th>_primaryMaker__name</th>\n",
       "      <th>_primaryMaker__association</th>\n",
       "      <th>_primaryDate</th>\n",
       "      <th>_primaryImageId</th>\n",
       "      <th>_sampleMaterial</th>\n",
       "      <th>_sampleTechnique</th>\n",
       "      <th>_sampleStyle</th>\n",
       "      <th>_currentLocation__displayName</th>\n",
       "      <th>_objectContentWarning</th>\n",
       "      <th>_imageContentWarning</th>\n",
       "    </tr>\n",
       "  </thead>\n",
       "  <tbody>\n",
       "    <tr>\n",
       "      <th>0</th>\n",
       "      <td>903-1917</td>\n",
       "      <td>1917.0</td>\n",
       "      <td>O1283179</td>\n",
       "      <td>Photograph</td>\n",
       "      <td>The entrance of the funerary complex of Mamluk...</td>\n",
       "      <td>Cairo</td>\n",
       "      <td>Abdullah Frères</td>\n",
       "      <td>photographers</td>\n",
       "      <td>1886-1895</td>\n",
       "      <td>2015HN7924</td>\n",
       "      <td>photographic paper</td>\n",
       "      <td>photography</td>\n",
       "      <td>NaN</td>\n",
       "      <td>In store</td>\n",
       "      <td>False</td>\n",
       "      <td>False</td>\n",
       "    </tr>\n",
       "    <tr>\n",
       "      <th>1</th>\n",
       "      <td>954-1917</td>\n",
       "      <td>1917.0</td>\n",
       "      <td>O1654419</td>\n",
       "      <td>Photograph</td>\n",
       "      <td>Bab al-Wazir street, Cairo</td>\n",
       "      <td>Egypt</td>\n",
       "      <td>Abdullahyan, Kevork</td>\n",
       "      <td>Photographer</td>\n",
       "      <td>1886 to 1895</td>\n",
       "      <td>NaN</td>\n",
       "      <td>NaN</td>\n",
       "      <td>photography</td>\n",
       "      <td>NaN</td>\n",
       "      <td>Prints &amp; Drawings Study Room, level E</td>\n",
       "      <td>False</td>\n",
       "      <td>False</td>\n",
       "    </tr>\n",
       "    <tr>\n",
       "      <th>2</th>\n",
       "      <td>951-1917</td>\n",
       "      <td>1917.0</td>\n",
       "      <td>O1654418</td>\n",
       "      <td>Photograph</td>\n",
       "      <td>Pottery Shop, Cairo</td>\n",
       "      <td>Egypt</td>\n",
       "      <td>Abdullahyan, Kevork</td>\n",
       "      <td>Photographer</td>\n",
       "      <td>1886 to 1895</td>\n",
       "      <td>NaN</td>\n",
       "      <td>NaN</td>\n",
       "      <td>photography</td>\n",
       "      <td>NaN</td>\n",
       "      <td>Prints &amp; Drawings Study Room, level E</td>\n",
       "      <td>False</td>\n",
       "      <td>False</td>\n",
       "    </tr>\n",
       "    <tr>\n",
       "      <th>3</th>\n",
       "      <td>985-1917</td>\n",
       "      <td>1917.0</td>\n",
       "      <td>O1594936</td>\n",
       "      <td>Photograph</td>\n",
       "      <td>Men and children sitting, Cairo</td>\n",
       "      <td>Egypt</td>\n",
       "      <td>Abdullahyan, Kevork</td>\n",
       "      <td>Photographer</td>\n",
       "      <td>1886 to 1895</td>\n",
       "      <td>NaN</td>\n",
       "      <td>NaN</td>\n",
       "      <td>photography</td>\n",
       "      <td>NaN</td>\n",
       "      <td>Prints &amp; Drawings Study Room, level E</td>\n",
       "      <td>False</td>\n",
       "      <td>False</td>\n",
       "    </tr>\n",
       "    <tr>\n",
       "      <th>4</th>\n",
       "      <td>1029-1917</td>\n",
       "      <td>1917.0</td>\n",
       "      <td>O1594910</td>\n",
       "      <td>Photograph</td>\n",
       "      <td>Mulid, or Celebration of the Birth of the Prop...</td>\n",
       "      <td>Egypt</td>\n",
       "      <td>Abdullahyan, Kevork</td>\n",
       "      <td>Photographer</td>\n",
       "      <td>1886 to 1895</td>\n",
       "      <td>NaN</td>\n",
       "      <td>NaN</td>\n",
       "      <td>photography</td>\n",
       "      <td>NaN</td>\n",
       "      <td>Prints &amp; Drawings Study Room, level E</td>\n",
       "      <td>False</td>\n",
       "      <td>False</td>\n",
       "    </tr>\n",
       "  </tbody>\n",
       "</table>\n",
       "</div>"
      ],
      "text/plain": [
       "  accessionNumber  accessionYear systemNumber  objectType  \\\n",
       "0        903-1917         1917.0     O1283179  Photograph   \n",
       "1        954-1917         1917.0     O1654419  Photograph   \n",
       "2        951-1917         1917.0     O1654418  Photograph   \n",
       "3        985-1917         1917.0     O1594936  Photograph   \n",
       "4       1029-1917         1917.0     O1594910  Photograph   \n",
       "\n",
       "                                       _primaryTitle _primaryPlace  \\\n",
       "0  The entrance of the funerary complex of Mamluk...         Cairo   \n",
       "1                         Bab al-Wazir street, Cairo         Egypt   \n",
       "2                                Pottery Shop, Cairo         Egypt   \n",
       "3                    Men and children sitting, Cairo         Egypt   \n",
       "4  Mulid, or Celebration of the Birth of the Prop...         Egypt   \n",
       "\n",
       "   _primaryMaker__name _primaryMaker__association  _primaryDate  \\\n",
       "0      Abdullah Frères              photographers     1886-1895   \n",
       "1  Abdullahyan, Kevork               Photographer  1886 to 1895   \n",
       "2  Abdullahyan, Kevork               Photographer  1886 to 1895   \n",
       "3  Abdullahyan, Kevork               Photographer  1886 to 1895   \n",
       "4  Abdullahyan, Kevork               Photographer  1886 to 1895   \n",
       "\n",
       "  _primaryImageId     _sampleMaterial _sampleTechnique _sampleStyle  \\\n",
       "0      2015HN7924  photographic paper      photography          NaN   \n",
       "1             NaN                 NaN      photography          NaN   \n",
       "2             NaN                 NaN      photography          NaN   \n",
       "3             NaN                 NaN      photography          NaN   \n",
       "4             NaN                 NaN      photography          NaN   \n",
       "\n",
       "           _currentLocation__displayName  _objectContentWarning  \\\n",
       "0                               In store                  False   \n",
       "1  Prints & Drawings Study Room, level E                  False   \n",
       "2  Prints & Drawings Study Room, level E                  False   \n",
       "3  Prints & Drawings Study Room, level E                  False   \n",
       "4  Prints & Drawings Study Room, level E                  False   \n",
       "\n",
       "   _imageContentWarning  \n",
       "0                 False  \n",
       "1                 False  \n",
       "2                 False  \n",
       "3                 False  \n",
       "4                 False  "
      ]
     },
     "execution_count": 20,
     "metadata": {},
     "output_type": "execute_result"
    }
   ],
   "source": [
    "#Case study V&A Museum: Search, Filter, Cluster\n",
    "#Response format CSV\n",
    "\n",
    "import requests\n",
    "import pandas as pd\n",
    "\n",
    "object_df = pd.read_csv(\"https://api.vam.ac.uk/v2/objects/search?id_technique=AAT54225&id_place=x29512&made_after_year=1840&made_before_year=1950&page_size=100&order_by=artist&response_format=csv\")\n",
    "\n",
    "\n",
    "object_df.head()"
   ]
  },
  {
   "cell_type": "code",
   "execution_count": 21,
   "id": "8c8733e9",
   "metadata": {},
   "outputs": [],
   "source": [
    "#API strings for OpenRefine\n",
    "#https://api.vam.ac.uk/v2/objects/search?id_technique=AAT54225&id_place=x29512&made_after_year=1840&made_before_year=1950&page_size=100&order_by=artist&page=1 \n",
    "#https://api.vam.ac.uk/v2/objects/search?id_technique=AAT54225&id_place=x29512&made_after_year=1840&made_before_year=1950&page_size=100&order_by=artist&page=2\n",
    "#page=3 ... page=23"
   ]
  },
  {
   "cell_type": "code",
   "execution_count": 24,
   "id": "8308a35f",
   "metadata": {},
   "outputs": [
    {
     "data": {
      "text/plain": [
       "\"Part of a group of originally 191 photographs presented by Harold Wallis, Esq. of Purley, 28 August 1912.  Many were later 'withdrawn' as duplicates\""
      ]
     },
     "execution_count": 24,
     "metadata": {},
     "output_type": "execute_result"
    }
   ],
   "source": [
    "#Constraints and limits of an API query \n",
    "#Object records field:\"Object History“\n",
    "\n",
    "#Abdullah Frères\n",
    "#Object: The entrance of the funerary complex of Mamluk Sultan al-Mansur Qalawun, Cairo\n",
    "\n",
    "import requests\n",
    "req = requests.get('https://api.vam.ac.uk/v2/museumobject/O1283179')  \n",
    "object_data = req.json()\n",
    "object_record = object_data[\"record\"]\n",
    "object_record[\"objectHistory\"]"
   ]
  },
  {
   "cell_type": "code",
   "execution_count": 23,
   "id": "da71144b",
   "metadata": {},
   "outputs": [
    {
     "data": {
      "text/plain": [
       "'Presented by Harold Wallis, Esq., 28 August 1917'"
      ]
     },
     "execution_count": 23,
     "metadata": {},
     "output_type": "execute_result"
    }
   ],
   "source": [
    "#Constraints and limits of an API query \n",
    "#Object records field:\"Credit Line“\n",
    "\n",
    "#Abdullah Frères\n",
    "#Object: The entrance of the funerary complex of Mamluk Sultan al-Mansur Qalawun, Cairo\n",
    "\n",
    "import requests\n",
    "req = requests.get('https://api.vam.ac.uk/v2/museumobject/O1283179')\n",
    "object_data = req.json()\n",
    "object_record = object_data[\"record\"]\n",
    "object_record[\"creditLine\"]"
   ]
  },
  {
   "cell_type": "code",
   "execution_count": null,
   "id": "32e4f6b5",
   "metadata": {},
   "outputs": [],
   "source": []
  }
 ],
 "metadata": {
  "kernelspec": {
   "display_name": "Python 3",
   "language": "python",
   "name": "python3"
  },
  "language_info": {
   "codemirror_mode": {
    "name": "ipython",
    "version": 3
   },
   "file_extension": ".py",
   "mimetype": "text/x-python",
   "name": "python",
   "nbconvert_exporter": "python",
   "pygments_lexer": "ipython3",
   "version": "3.8.8"
  },
  "varInspector": {
   "cols": {
    "lenName": 16,
    "lenType": 16,
    "lenVar": 40
   },
   "kernels_config": {
    "python": {
     "delete_cmd_postfix": "",
     "delete_cmd_prefix": "del ",
     "library": "var_list.py",
     "varRefreshCmd": "print(var_dic_list())"
    },
    "r": {
     "delete_cmd_postfix": ") ",
     "delete_cmd_prefix": "rm(",
     "library": "var_list.r",
     "varRefreshCmd": "cat(var_dic_list()) "
    }
   },
   "types_to_exclude": [
    "module",
    "function",
    "builtin_function_or_method",
    "instance",
    "_Feature"
   ],
   "window_display": false
  }
 },
 "nbformat": 4,
 "nbformat_minor": 5
}
